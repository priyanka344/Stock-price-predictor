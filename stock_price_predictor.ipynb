{
  "nbformat": 4,
  "nbformat_minor": 0,
  "metadata": {
    "colab": {
      "provenance": []
    },
    "kernelspec": {
      "name": "python3",
      "display_name": "Python 3"
    },
    "language_info": {
      "name": "python"
    }
  },
  "cells": [
    {
      "cell_type": "code",
      "source": [
        "!pip install yfinance"
      ],
      "metadata": {
        "colab": {
          "base_uri": "https://localhost:8080/"
        },
        "id": "s9iZZMKRzrLm",
        "outputId": "9aa9d711-79d5-4004-884c-e43ef563540c"
      },
      "execution_count": 1,
      "outputs": [
        {
          "output_type": "stream",
          "name": "stdout",
          "text": [
            "Looking in indexes: https://pypi.org/simple, https://us-python.pkg.dev/colab-wheels/public/simple/\n",
            "Collecting yfinance\n",
            "  Downloading yfinance-0.1.90-py2.py3-none-any.whl (29 kB)\n",
            "Requirement already satisfied: appdirs>=1.4.4 in /usr/local/lib/python3.8/dist-packages (from yfinance) (1.4.4)\n",
            "Requirement already satisfied: multitasking>=0.0.7 in /usr/local/lib/python3.8/dist-packages (from yfinance) (0.0.11)\n",
            "Requirement already satisfied: numpy>=1.16.5 in /usr/local/lib/python3.8/dist-packages (from yfinance) (1.21.6)\n",
            "Requirement already satisfied: pandas>=1.3.0 in /usr/local/lib/python3.8/dist-packages (from yfinance) (1.3.5)\n",
            "Requirement already satisfied: lxml>=4.9.1 in /usr/local/lib/python3.8/dist-packages (from yfinance) (4.9.2)\n",
            "Collecting requests>=2.26\n",
            "  Downloading requests-2.28.1-py3-none-any.whl (62 kB)\n",
            "\u001b[K     |████████████████████████████████| 62 kB 1.1 MB/s \n",
            "\u001b[?25hRequirement already satisfied: python-dateutil>=2.7.3 in /usr/local/lib/python3.8/dist-packages (from pandas>=1.3.0->yfinance) (2.8.2)\n",
            "Requirement already satisfied: pytz>=2017.3 in /usr/local/lib/python3.8/dist-packages (from pandas>=1.3.0->yfinance) (2022.6)\n",
            "Requirement already satisfied: six>=1.5 in /usr/local/lib/python3.8/dist-packages (from python-dateutil>=2.7.3->pandas>=1.3.0->yfinance) (1.15.0)\n",
            "Requirement already satisfied: charset-normalizer<3,>=2 in /usr/local/lib/python3.8/dist-packages (from requests>=2.26->yfinance) (2.1.1)\n",
            "Requirement already satisfied: idna<4,>=2.5 in /usr/local/lib/python3.8/dist-packages (from requests>=2.26->yfinance) (2.10)\n",
            "Requirement already satisfied: certifi>=2017.4.17 in /usr/local/lib/python3.8/dist-packages (from requests>=2.26->yfinance) (2022.12.7)\n",
            "Requirement already satisfied: urllib3<1.27,>=1.21.1 in /usr/local/lib/python3.8/dist-packages (from requests>=2.26->yfinance) (1.24.3)\n",
            "Installing collected packages: requests, yfinance\n",
            "  Attempting uninstall: requests\n",
            "    Found existing installation: requests 2.23.0\n",
            "    Uninstalling requests-2.23.0:\n",
            "      Successfully uninstalled requests-2.23.0\n",
            "Successfully installed requests-2.28.1 yfinance-0.1.90\n"
          ]
        }
      ]
    },
    {
      "cell_type": "code",
      "source": [
        "\n",
        "import numpy as np\n",
        "import pandas as pd\n",
        "import yfinance as yf      #helps us to download market data from finance\n",
        "import seaborn as sns\n",
        "import matplotlib.pyplot as plt\n",
        "%matplotlib inline"
      ],
      "metadata": {
        "id": "l1fwfYrezylE"
      },
      "execution_count": 2,
      "outputs": []
    },
    {
      "cell_type": "code",
      "source": [
        "stocks=input(\"enter the code of the stock: \")\n",
        "data=yf.download(stocks, \"2008-01-01\", \"2021-01-18\")\n",
        "data.head()"
      ],
      "metadata": {
        "colab": {
          "base_uri": "https://localhost:8080/",
          "height": 272
        },
        "id": "yszzy8400NT0",
        "outputId": "e9efab8f-e3c7-4066-a4fc-8143097785cb"
      },
      "execution_count": 3,
      "outputs": [
        {
          "output_type": "stream",
          "name": "stdout",
          "text": [
            "enter the code of the stock: GC=F\n",
            "[*********************100%***********************]  1 of 1 completed\n"
          ]
        },
        {
          "output_type": "execute_result",
          "data": {
            "text/plain": [
              "                  Open        High         Low       Close   Adj Close  Volume\n",
              "Date                                                                          \n",
              "2008-01-02  848.700012  857.799988  846.400024  857.000000  857.000000     130\n",
              "2008-01-03  863.000000  865.500000  856.299988  866.400024  866.400024     181\n",
              "2008-01-04  861.400024  865.500000  860.200012  863.099976  863.099976      28\n",
              "2008-01-07  860.900024  860.900024  857.400024  859.599976  859.599976       4\n",
              "2008-01-08  861.599976  879.400024  861.599976  878.000000  878.000000      21"
            ],
            "text/html": [
              "\n",
              "  <div id=\"df-0cd5b9e4-f75f-48de-bf54-1c6f4b82ed70\">\n",
              "    <div class=\"colab-df-container\">\n",
              "      <div>\n",
              "<style scoped>\n",
              "    .dataframe tbody tr th:only-of-type {\n",
              "        vertical-align: middle;\n",
              "    }\n",
              "\n",
              "    .dataframe tbody tr th {\n",
              "        vertical-align: top;\n",
              "    }\n",
              "\n",
              "    .dataframe thead th {\n",
              "        text-align: right;\n",
              "    }\n",
              "</style>\n",
              "<table border=\"1\" class=\"dataframe\">\n",
              "  <thead>\n",
              "    <tr style=\"text-align: right;\">\n",
              "      <th></th>\n",
              "      <th>Open</th>\n",
              "      <th>High</th>\n",
              "      <th>Low</th>\n",
              "      <th>Close</th>\n",
              "      <th>Adj Close</th>\n",
              "      <th>Volume</th>\n",
              "    </tr>\n",
              "    <tr>\n",
              "      <th>Date</th>\n",
              "      <th></th>\n",
              "      <th></th>\n",
              "      <th></th>\n",
              "      <th></th>\n",
              "      <th></th>\n",
              "      <th></th>\n",
              "    </tr>\n",
              "  </thead>\n",
              "  <tbody>\n",
              "    <tr>\n",
              "      <th>2008-01-02</th>\n",
              "      <td>848.700012</td>\n",
              "      <td>857.799988</td>\n",
              "      <td>846.400024</td>\n",
              "      <td>857.000000</td>\n",
              "      <td>857.000000</td>\n",
              "      <td>130</td>\n",
              "    </tr>\n",
              "    <tr>\n",
              "      <th>2008-01-03</th>\n",
              "      <td>863.000000</td>\n",
              "      <td>865.500000</td>\n",
              "      <td>856.299988</td>\n",
              "      <td>866.400024</td>\n",
              "      <td>866.400024</td>\n",
              "      <td>181</td>\n",
              "    </tr>\n",
              "    <tr>\n",
              "      <th>2008-01-04</th>\n",
              "      <td>861.400024</td>\n",
              "      <td>865.500000</td>\n",
              "      <td>860.200012</td>\n",
              "      <td>863.099976</td>\n",
              "      <td>863.099976</td>\n",
              "      <td>28</td>\n",
              "    </tr>\n",
              "    <tr>\n",
              "      <th>2008-01-07</th>\n",
              "      <td>860.900024</td>\n",
              "      <td>860.900024</td>\n",
              "      <td>857.400024</td>\n",
              "      <td>859.599976</td>\n",
              "      <td>859.599976</td>\n",
              "      <td>4</td>\n",
              "    </tr>\n",
              "    <tr>\n",
              "      <th>2008-01-08</th>\n",
              "      <td>861.599976</td>\n",
              "      <td>879.400024</td>\n",
              "      <td>861.599976</td>\n",
              "      <td>878.000000</td>\n",
              "      <td>878.000000</td>\n",
              "      <td>21</td>\n",
              "    </tr>\n",
              "  </tbody>\n",
              "</table>\n",
              "</div>\n",
              "      <button class=\"colab-df-convert\" onclick=\"convertToInteractive('df-0cd5b9e4-f75f-48de-bf54-1c6f4b82ed70')\"\n",
              "              title=\"Convert this dataframe to an interactive table.\"\n",
              "              style=\"display:none;\">\n",
              "        \n",
              "  <svg xmlns=\"http://www.w3.org/2000/svg\" height=\"24px\"viewBox=\"0 0 24 24\"\n",
              "       width=\"24px\">\n",
              "    <path d=\"M0 0h24v24H0V0z\" fill=\"none\"/>\n",
              "    <path d=\"M18.56 5.44l.94 2.06.94-2.06 2.06-.94-2.06-.94-.94-2.06-.94 2.06-2.06.94zm-11 1L8.5 8.5l.94-2.06 2.06-.94-2.06-.94L8.5 2.5l-.94 2.06-2.06.94zm10 10l.94 2.06.94-2.06 2.06-.94-2.06-.94-.94-2.06-.94 2.06-2.06.94z\"/><path d=\"M17.41 7.96l-1.37-1.37c-.4-.4-.92-.59-1.43-.59-.52 0-1.04.2-1.43.59L10.3 9.45l-7.72 7.72c-.78.78-.78 2.05 0 2.83L4 21.41c.39.39.9.59 1.41.59.51 0 1.02-.2 1.41-.59l7.78-7.78 2.81-2.81c.8-.78.8-2.07 0-2.86zM5.41 20L4 18.59l7.72-7.72 1.47 1.35L5.41 20z\"/>\n",
              "  </svg>\n",
              "      </button>\n",
              "      \n",
              "  <style>\n",
              "    .colab-df-container {\n",
              "      display:flex;\n",
              "      flex-wrap:wrap;\n",
              "      gap: 12px;\n",
              "    }\n",
              "\n",
              "    .colab-df-convert {\n",
              "      background-color: #E8F0FE;\n",
              "      border: none;\n",
              "      border-radius: 50%;\n",
              "      cursor: pointer;\n",
              "      display: none;\n",
              "      fill: #1967D2;\n",
              "      height: 32px;\n",
              "      padding: 0 0 0 0;\n",
              "      width: 32px;\n",
              "    }\n",
              "\n",
              "    .colab-df-convert:hover {\n",
              "      background-color: #E2EBFA;\n",
              "      box-shadow: 0px 1px 2px rgba(60, 64, 67, 0.3), 0px 1px 3px 1px rgba(60, 64, 67, 0.15);\n",
              "      fill: #174EA6;\n",
              "    }\n",
              "\n",
              "    [theme=dark] .colab-df-convert {\n",
              "      background-color: #3B4455;\n",
              "      fill: #D2E3FC;\n",
              "    }\n",
              "\n",
              "    [theme=dark] .colab-df-convert:hover {\n",
              "      background-color: #434B5C;\n",
              "      box-shadow: 0px 1px 3px 1px rgba(0, 0, 0, 0.15);\n",
              "      filter: drop-shadow(0px 1px 2px rgba(0, 0, 0, 0.3));\n",
              "      fill: #FFFFFF;\n",
              "    }\n",
              "  </style>\n",
              "\n",
              "      <script>\n",
              "        const buttonEl =\n",
              "          document.querySelector('#df-0cd5b9e4-f75f-48de-bf54-1c6f4b82ed70 button.colab-df-convert');\n",
              "        buttonEl.style.display =\n",
              "          google.colab.kernel.accessAllowed ? 'block' : 'none';\n",
              "\n",
              "        async function convertToInteractive(key) {\n",
              "          const element = document.querySelector('#df-0cd5b9e4-f75f-48de-bf54-1c6f4b82ed70');\n",
              "          const dataTable =\n",
              "            await google.colab.kernel.invokeFunction('convertToInteractive',\n",
              "                                                     [key], {});\n",
              "          if (!dataTable) return;\n",
              "\n",
              "          const docLinkHtml = 'Like what you see? Visit the ' +\n",
              "            '<a target=\"_blank\" href=https://colab.research.google.com/notebooks/data_table.ipynb>data table notebook</a>'\n",
              "            + ' to learn more about interactive tables.';\n",
              "          element.innerHTML = '';\n",
              "          dataTable['output_type'] = 'display_data';\n",
              "          await google.colab.output.renderOutput(dataTable, element);\n",
              "          const docLink = document.createElement('div');\n",
              "          docLink.innerHTML = docLinkHtml;\n",
              "          element.appendChild(docLink);\n",
              "        }\n",
              "      </script>\n",
              "    </div>\n",
              "  </div>\n",
              "  "
            ]
          },
          "metadata": {},
          "execution_count": 3
        }
      ]
    },
    {
      "cell_type": "code",
      "source": [
        "data.info()"
      ],
      "metadata": {
        "colab": {
          "base_uri": "https://localhost:8080/"
        },
        "id": "OHTaDFoc0kOq",
        "outputId": "9755bc9d-8acb-4f74-ab17-dcd3fa6ed4de"
      },
      "execution_count": 4,
      "outputs": [
        {
          "output_type": "stream",
          "name": "stdout",
          "text": [
            "<class 'pandas.core.frame.DataFrame'>\n",
            "DatetimeIndex: 3281 entries, 2008-01-02 to 2021-01-15\n",
            "Data columns (total 6 columns):\n",
            " #   Column     Non-Null Count  Dtype  \n",
            "---  ------     --------------  -----  \n",
            " 0   Open       3281 non-null   float64\n",
            " 1   High       3281 non-null   float64\n",
            " 2   Low        3281 non-null   float64\n",
            " 3   Close      3281 non-null   float64\n",
            " 4   Adj Close  3281 non-null   float64\n",
            " 5   Volume     3281 non-null   int64  \n",
            "dtypes: float64(5), int64(1)\n",
            "memory usage: 179.4 KB\n"
          ]
        }
      ]
    },
    {
      "cell_type": "code",
      "source": [
        "data.describe()"
      ],
      "metadata": {
        "colab": {
          "base_uri": "https://localhost:8080/",
          "height": 300
        },
        "id": "R5-2T1mD0s-D",
        "outputId": "c7442658-8c86-49f0-dbed-09138e014841"
      },
      "execution_count": 5,
      "outputs": [
        {
          "output_type": "execute_result",
          "data": {
            "text/plain": [
              "              Open         High          Low        Close    Adj Close  \\\n",
              "count  3281.000000  3281.000000  3281.000000  3281.000000  3281.000000   \n",
              "mean   1316.287291  1323.427614  1308.463700  1316.037885  1316.037885   \n",
              "std     262.732678   264.022456   261.294638   262.754237   262.754237   \n",
              "min     705.000000   715.500000   681.000000   704.900024   704.900024   \n",
              "25%    1183.400024  1189.400024  1176.199951  1183.400024  1183.400024   \n",
              "50%    1282.500000  1287.099976  1277.800049  1282.099976  1282.099976   \n",
              "75%    1486.199951  1491.599976  1477.300049  1484.000000  1484.000000   \n",
              "max    2045.500000  2063.000000  2040.000000  2051.500000  2051.500000   \n",
              "\n",
              "              Volume  \n",
              "count    3281.000000  \n",
              "mean     5606.854008  \n",
              "std     29568.392331  \n",
              "min         0.000000  \n",
              "25%        41.000000  \n",
              "50%       137.000000  \n",
              "75%       442.000000  \n",
              "max    386334.000000  "
            ],
            "text/html": [
              "\n",
              "  <div id=\"df-a63cabf6-2b50-4896-af47-c120fd3763c5\">\n",
              "    <div class=\"colab-df-container\">\n",
              "      <div>\n",
              "<style scoped>\n",
              "    .dataframe tbody tr th:only-of-type {\n",
              "        vertical-align: middle;\n",
              "    }\n",
              "\n",
              "    .dataframe tbody tr th {\n",
              "        vertical-align: top;\n",
              "    }\n",
              "\n",
              "    .dataframe thead th {\n",
              "        text-align: right;\n",
              "    }\n",
              "</style>\n",
              "<table border=\"1\" class=\"dataframe\">\n",
              "  <thead>\n",
              "    <tr style=\"text-align: right;\">\n",
              "      <th></th>\n",
              "      <th>Open</th>\n",
              "      <th>High</th>\n",
              "      <th>Low</th>\n",
              "      <th>Close</th>\n",
              "      <th>Adj Close</th>\n",
              "      <th>Volume</th>\n",
              "    </tr>\n",
              "  </thead>\n",
              "  <tbody>\n",
              "    <tr>\n",
              "      <th>count</th>\n",
              "      <td>3281.000000</td>\n",
              "      <td>3281.000000</td>\n",
              "      <td>3281.000000</td>\n",
              "      <td>3281.000000</td>\n",
              "      <td>3281.000000</td>\n",
              "      <td>3281.000000</td>\n",
              "    </tr>\n",
              "    <tr>\n",
              "      <th>mean</th>\n",
              "      <td>1316.287291</td>\n",
              "      <td>1323.427614</td>\n",
              "      <td>1308.463700</td>\n",
              "      <td>1316.037885</td>\n",
              "      <td>1316.037885</td>\n",
              "      <td>5606.854008</td>\n",
              "    </tr>\n",
              "    <tr>\n",
              "      <th>std</th>\n",
              "      <td>262.732678</td>\n",
              "      <td>264.022456</td>\n",
              "      <td>261.294638</td>\n",
              "      <td>262.754237</td>\n",
              "      <td>262.754237</td>\n",
              "      <td>29568.392331</td>\n",
              "    </tr>\n",
              "    <tr>\n",
              "      <th>min</th>\n",
              "      <td>705.000000</td>\n",
              "      <td>715.500000</td>\n",
              "      <td>681.000000</td>\n",
              "      <td>704.900024</td>\n",
              "      <td>704.900024</td>\n",
              "      <td>0.000000</td>\n",
              "    </tr>\n",
              "    <tr>\n",
              "      <th>25%</th>\n",
              "      <td>1183.400024</td>\n",
              "      <td>1189.400024</td>\n",
              "      <td>1176.199951</td>\n",
              "      <td>1183.400024</td>\n",
              "      <td>1183.400024</td>\n",
              "      <td>41.000000</td>\n",
              "    </tr>\n",
              "    <tr>\n",
              "      <th>50%</th>\n",
              "      <td>1282.500000</td>\n",
              "      <td>1287.099976</td>\n",
              "      <td>1277.800049</td>\n",
              "      <td>1282.099976</td>\n",
              "      <td>1282.099976</td>\n",
              "      <td>137.000000</td>\n",
              "    </tr>\n",
              "    <tr>\n",
              "      <th>75%</th>\n",
              "      <td>1486.199951</td>\n",
              "      <td>1491.599976</td>\n",
              "      <td>1477.300049</td>\n",
              "      <td>1484.000000</td>\n",
              "      <td>1484.000000</td>\n",
              "      <td>442.000000</td>\n",
              "    </tr>\n",
              "    <tr>\n",
              "      <th>max</th>\n",
              "      <td>2045.500000</td>\n",
              "      <td>2063.000000</td>\n",
              "      <td>2040.000000</td>\n",
              "      <td>2051.500000</td>\n",
              "      <td>2051.500000</td>\n",
              "      <td>386334.000000</td>\n",
              "    </tr>\n",
              "  </tbody>\n",
              "</table>\n",
              "</div>\n",
              "      <button class=\"colab-df-convert\" onclick=\"convertToInteractive('df-a63cabf6-2b50-4896-af47-c120fd3763c5')\"\n",
              "              title=\"Convert this dataframe to an interactive table.\"\n",
              "              style=\"display:none;\">\n",
              "        \n",
              "  <svg xmlns=\"http://www.w3.org/2000/svg\" height=\"24px\"viewBox=\"0 0 24 24\"\n",
              "       width=\"24px\">\n",
              "    <path d=\"M0 0h24v24H0V0z\" fill=\"none\"/>\n",
              "    <path d=\"M18.56 5.44l.94 2.06.94-2.06 2.06-.94-2.06-.94-.94-2.06-.94 2.06-2.06.94zm-11 1L8.5 8.5l.94-2.06 2.06-.94-2.06-.94L8.5 2.5l-.94 2.06-2.06.94zm10 10l.94 2.06.94-2.06 2.06-.94-2.06-.94-.94-2.06-.94 2.06-2.06.94z\"/><path d=\"M17.41 7.96l-1.37-1.37c-.4-.4-.92-.59-1.43-.59-.52 0-1.04.2-1.43.59L10.3 9.45l-7.72 7.72c-.78.78-.78 2.05 0 2.83L4 21.41c.39.39.9.59 1.41.59.51 0 1.02-.2 1.41-.59l7.78-7.78 2.81-2.81c.8-.78.8-2.07 0-2.86zM5.41 20L4 18.59l7.72-7.72 1.47 1.35L5.41 20z\"/>\n",
              "  </svg>\n",
              "      </button>\n",
              "      \n",
              "  <style>\n",
              "    .colab-df-container {\n",
              "      display:flex;\n",
              "      flex-wrap:wrap;\n",
              "      gap: 12px;\n",
              "    }\n",
              "\n",
              "    .colab-df-convert {\n",
              "      background-color: #E8F0FE;\n",
              "      border: none;\n",
              "      border-radius: 50%;\n",
              "      cursor: pointer;\n",
              "      display: none;\n",
              "      fill: #1967D2;\n",
              "      height: 32px;\n",
              "      padding: 0 0 0 0;\n",
              "      width: 32px;\n",
              "    }\n",
              "\n",
              "    .colab-df-convert:hover {\n",
              "      background-color: #E2EBFA;\n",
              "      box-shadow: 0px 1px 2px rgba(60, 64, 67, 0.3), 0px 1px 3px 1px rgba(60, 64, 67, 0.15);\n",
              "      fill: #174EA6;\n",
              "    }\n",
              "\n",
              "    [theme=dark] .colab-df-convert {\n",
              "      background-color: #3B4455;\n",
              "      fill: #D2E3FC;\n",
              "    }\n",
              "\n",
              "    [theme=dark] .colab-df-convert:hover {\n",
              "      background-color: #434B5C;\n",
              "      box-shadow: 0px 1px 3px 1px rgba(0, 0, 0, 0.15);\n",
              "      filter: drop-shadow(0px 1px 2px rgba(0, 0, 0, 0.3));\n",
              "      fill: #FFFFFF;\n",
              "    }\n",
              "  </style>\n",
              "\n",
              "      <script>\n",
              "        const buttonEl =\n",
              "          document.querySelector('#df-a63cabf6-2b50-4896-af47-c120fd3763c5 button.colab-df-convert');\n",
              "        buttonEl.style.display =\n",
              "          google.colab.kernel.accessAllowed ? 'block' : 'none';\n",
              "\n",
              "        async function convertToInteractive(key) {\n",
              "          const element = document.querySelector('#df-a63cabf6-2b50-4896-af47-c120fd3763c5');\n",
              "          const dataTable =\n",
              "            await google.colab.kernel.invokeFunction('convertToInteractive',\n",
              "                                                     [key], {});\n",
              "          if (!dataTable) return;\n",
              "\n",
              "          const docLinkHtml = 'Like what you see? Visit the ' +\n",
              "            '<a target=\"_blank\" href=https://colab.research.google.com/notebooks/data_table.ipynb>data table notebook</a>'\n",
              "            + ' to learn more about interactive tables.';\n",
              "          element.innerHTML = '';\n",
              "          dataTable['output_type'] = 'display_data';\n",
              "          await google.colab.output.renderOutput(dataTable, element);\n",
              "          const docLink = document.createElement('div');\n",
              "          docLink.innerHTML = docLinkHtml;\n",
              "          element.appendChild(docLink);\n",
              "        }\n",
              "      </script>\n",
              "    </div>\n",
              "  </div>\n",
              "  "
            ]
          },
          "metadata": {},
          "execution_count": 5
        }
      ]
    },
    {
      "cell_type": "code",
      "source": [
        "data.Close.plot(figsize=(10,7), color='r')  # close is the target variable\n",
        "plt.ylabel(\"{} Prices\".format(stocks))\n",
        "plt.title(\"{} Price series\". format(stocks))\n",
        "plt.show()"
      ],
      "metadata": {
        "colab": {
          "base_uri": "https://localhost:8080/",
          "height": 432
        },
        "id": "cT2juHfu0wqg",
        "outputId": "47c83b58-a1c1-48c7-e02b-0c1d7f96b936"
      },
      "execution_count": 6,
      "outputs": [
        {
          "output_type": "display_data",
          "data": {
            "text/plain": [
              "<Figure size 720x504 with 1 Axes>"
            ],
            "image/png": "[encoded data removed]"
          },
          "metadata": {
            "needs_background": "light"
          }
        }
      ]
    },
    {
      "cell_type": "code",
      "source": [
        "sns.distplot(data[\"Close\"])"
      ],
      "metadata": {
        "colab": {
          "base_uri": "https://localhost:8080/",
          "height": 351
        },
        "id": "zvDIOj3K28JY",
        "outputId": "670e77b1-b7f3-4a66-8384-b5a3c25ef14f"
      },
      "execution_count": 7,
      "outputs": [
        {
          "output_type": "stream",
          "name": "stderr",
          "text": [
            "/usr/local/lib/python3.8/dist-packages/seaborn/distributions.py:2619: FutureWarning: `distplot` is a deprecated function and will be removed in a future version. Please adapt your code to use either `displot` (a figure-level function with similar flexibility) or `histplot` (an axes-level function for histograms).\n",
            "  warnings.warn(msg, FutureWarning)\n"
          ]
        },
        {
          "output_type": "execute_result",
          "data": {
            "text/plain": [
              "<matplotlib.axes._subplots.AxesSubplot at 0x7f8d6d1fe580>"
            ]
          },
          "metadata": {},
          "execution_count": 7
        },
        {
          "output_type": "display_data",
          "data": {
            "text/plain": [
              "<Figure size 432x288 with 1 Axes>"
            ],
            "image/png": "[encoded data removed]"
          },
          "metadata": {
            "needs_background": "light"
          }
        }
      ]
    },
    {
      "cell_type": "code",
      "source": [
        "sns.distplot(data[\"Open\"])"
      ],
      "metadata": {
        "colab": {
          "base_uri": "https://localhost:8080/",
          "height": 351
        },
        "id": "NZ1Doxr_3SoV",
        "outputId": "593f356a-f0a9-45ca-dfdc-821a0ea88aa9"
      },
      "execution_count": 8,
      "outputs": [
        {
          "output_type": "stream",
          "name": "stderr",
          "text": [
            "/usr/local/lib/python3.8/dist-packages/seaborn/distributions.py:2619: FutureWarning: `distplot` is a deprecated function and will be removed in a future version. Please adapt your code to use either `displot` (a figure-level function with similar flexibility) or `histplot` (an axes-level function for histograms).\n",
            "  warnings.warn(msg, FutureWarning)\n"
          ]
        },
        {
          "output_type": "execute_result",
          "data": {
            "text/plain": [
              "<matplotlib.axes._subplots.AxesSubplot at 0x7f8d6d0fe160>"
            ]
          },
          "metadata": {},
          "execution_count": 8
        },
        {
          "output_type": "display_data",
          "data": {
            "text/plain": [
              "<Figure size 432x288 with 1 Axes>"
            ],
            "image/png": "[encoded data removed]"
          },
          "metadata": {
            "needs_background": "light"
          }
        }
      ]
    },
    {
      "cell_type": "code",
      "source": [
        "sns.distplot(data[\"High\"])"
      ],
      "metadata": {
        "colab": {
          "base_uri": "https://localhost:8080/",
          "height": 351
        },
        "id": "GSC1885r3dct",
        "outputId": "0ef0bb35-0f46-4738-cbe5-e9ea9c964ddc"
      },
      "execution_count": 9,
      "outputs": [
        {
          "output_type": "stream",
          "name": "stderr",
          "text": [
            "/usr/local/lib/python3.8/dist-packages/seaborn/distributions.py:2619: FutureWarning: `distplot` is a deprecated function and will be removed in a future version. Please adapt your code to use either `displot` (a figure-level function with similar flexibility) or `histplot` (an axes-level function for histograms).\n",
            "  warnings.warn(msg, FutureWarning)\n"
          ]
        },
        {
          "output_type": "execute_result",
          "data": {
            "text/plain": [
              "<matplotlib.axes._subplots.AxesSubplot at 0x7f8d6d0ba130>"
            ]
          },
          "metadata": {},
          "execution_count": 9
        },
        {
          "output_type": "display_data",
          "data": {
            "text/plain": [
              "<Figure size 432x288 with 1 Axes>"
            ],
            "image/png": "[encoded data removed]"
          },
          "metadata": {
            "needs_background": "light"
          }
        }
      ]
    },
    {
      "cell_type": "code",
      "source": [
        "x=data.drop(\"Close\", axis=1)\n",
        "y=data[\"Close\"]\n",
        "from sklearn.model_selection import train_test_split\n",
        "x_train, x_test, y_train, y_test=train_test_split(x,y,test_size=0.2, random_state=0)  #random state is used to reproduce the problem the same every time it is run\n",
        "print(x_train.shape)\n",
        "print(x_test.shape)\n",
        "print(y_train.shape)\n",
        "print(y_test.shape)"
      ],
      "metadata": {
        "colab": {
          "base_uri": "https://localhost:8080/"
        },
        "id": "XycF0Ii75ME2",
        "outputId": "26a5ee34-1492-44f5-8fdb-5bc57d6eb416"
      },
      "execution_count": 10,
      "outputs": [
        {
          "output_type": "stream",
          "name": "stdout",
          "text": [
            "(2624, 5)\n",
            "(657, 5)\n",
            "(2624,)\n",
            "(657,)\n"
          ]
        }
      ]
    },
    {
      "cell_type": "code",
      "source": [
        "from sklearn.linear_model import LinearRegression\n",
        "lr= LinearRegression()\n",
        "lr.fit(x_train, y_train)\n",
        "pred1=lr.predict(x_test)"
      ],
      "metadata": {
        "id": "7RFSiRT96IOp"
      },
      "execution_count": 11,
      "outputs": []
    },
    {
      "cell_type": "code",
      "source": [
        "pred1"
      ],
      "metadata": {
        "colab": {
          "base_uri": "https://localhost:8080/"
        },
        "id": "lI3E1ayN6W-K",
        "outputId": "583dc7bb-5182-45dc-f2fe-3092995e34be"
      },
      "execution_count": 12,
      "outputs": [
        {
          "output_type": "execute_result",
          "data": {
            "text/plain": [
              "array([1728.69995117, 1093.30004883, 1259.69995117, 1107.19995117,\n",
              "       1386.80004883,  901.70001221, 1250.59997559, 1290.09997559,\n",
              "       1209.5       , 1898.59997559, 1155.19995117, 1921.59997559,\n",
              "       1579.30004883, 1218.09997559,  955.79998779, 1721.09997559,\n",
              "       1373.09997559, 1318.69995117,  934.59997559, 1326.5       ,\n",
              "       1312.69995117, 1324.30004883, 1156.30004883, 1060.09997559,\n",
              "       1214.19995117, 1645.5       , 1197.69995117, 1869.90002441,\n",
              "       1648.69995117, 1284.19995117, 1392.59997559, 1277.69995117,\n",
              "        865.40002441, 1613.40002441, 1352.30004883, 1350.19995117,\n",
              "       1320.59997559, 1062.40002441, 1234.90002441, 1166.90002441,\n",
              "       1366.59997559, 1187.90002441, 1290.40002441, 1490.30004883,\n",
              "       1265.59997559, 1293.5       , 1226.59997559, 1183.59997559,\n",
              "       1826.69995117, 1273.69995117, 1380.        , 1352.40002441,\n",
              "       1330.5       , 1656.19995117, 1642.09997559, 1310.69995117,\n",
              "       1104.40002441, 1239.69995117, 1279.59997559,  899.79998779,\n",
              "       1309.69995117, 1296.        , 1117.80004883, 1331.5       ,\n",
              "       1273.40002441, 1077.19995117, 1253.80004883, 1231.40002441,\n",
              "       1167.59997559, 1244.30004883, 1057.30004883, 1232.80004883,\n",
              "       1328.19995117, 1183.        ,  880.59997559, 1342.09997559,\n",
              "       1662.59997559, 1516.69995117, 1182.69995117, 1233.59997559,\n",
              "       1070.5       , 1548.40002441,  904.90002441, 1716.59997559,\n",
              "       1221.19995117, 1664.19995117, 1282.        , 1377.59997559,\n",
              "       1615.        , 1324.19995117, 1306.09997559,  901.29998779,\n",
              "       1508.        , 1331.59997559, 1338.09997559, 1276.19995117,\n",
              "       1512.30004883, 1298.90002441, 1274.09997559, 1273.        ,\n",
              "       1731.80004883, 1225.        , 1308.5       , 1267.40002441,\n",
              "       1247.30004883, 1736.90002441, 1205.09997559, 1288.19995117,\n",
              "       1293.30004883, 1468.80004883,  735.90002441, 1615.5       ,\n",
              "       1323.59997559, 1769.09997559, 1258.09997559, 1142.69995117,\n",
              "       1275.59997559, 1575.19995117, 1455.5       , 1186.09997559,\n",
              "       1206.30004883, 1089.5       , 1227.80004883, 1874.69995117,\n",
              "       1244.09997559, 1418.5       , 1756.69995117,  839.29998779,\n",
              "        927.        , 1403.09997559, 1780.5       ,  855.40002441,\n",
              "       1601.30004883, 1046.40002441, 1309.19995117, 1577.09997559,\n",
              "       1307.80004883, 1725.09997559, 1967.59997559, 1271.90002441,\n",
              "       1232.5       , 1249.19995117, 1110.80004883, 1206.69995117,\n",
              "       1196.59997559, 1732.        , 1242.30004883, 1308.40002441,\n",
              "       1612.90002441, 1256.69995117, 1053.40002441, 1273.69995117,\n",
              "       1088.40002441, 1290.09997559, 1737.80004883, 1272.40002441,\n",
              "       1219.30004883, 1325.90002441, 1203.40002441, 1730.30004883,\n",
              "       1482.30004883, 1612.69995117, 1475.59997559, 1195.5       ,\n",
              "       1721.80004883, 1152.30004883, 1245.90002441, 1312.        ,\n",
              "        732.        , 1189.5       , 1285.69995117, 1265.09997559,\n",
              "       1211.90002441, 1178.19995117, 1764.19995117, 1219.80004883,\n",
              "        954.        , 1446.30004883, 1723.        ,  907.40002441,\n",
              "       1187.19995117, 1919.5       , 1341.30004883, 1123.59997559,\n",
              "       1374.69995117, 1152.19995117, 1798.69995117, 1313.69995117,\n",
              "       1206.90002441,  900.09997559, 1336.40002441, 1900.80004883,\n",
              "       1372.19995117, 1306.30004883, 1305.80004883,  862.70001221,\n",
              "       1337.09997559, 1528.59997559, 1498.40002441, 1392.59997559,\n",
              "       1336.69995117, 1130.09997559,  928.79998779, 1385.5       ,\n",
              "       1224.5       , 1194.69995117, 1888.59997559, 1111.40002441,\n",
              "       1208.09997559, 1104.19995117, 1294.69995117, 1286.80004883,\n",
              "       1646.        , 1717.5       , 1056.19995117, 1221.        ,\n",
              "       1686.59997559, 1187.        , 1336.69995117, 1102.69995117,\n",
              "       1369.5       , 1234.40002441,  895.59997559,  937.70001221,\n",
              "       1241.90002441, 1825.69995117, 1120.40002441, 1298.09997559,\n",
              "       1209.59997559, 1198.30004883, 1452.90002441, 1595.59997559,\n",
              "        913.59997559, 1668.90002441, 1842.40002441, 1290.19995117,\n",
              "       1132.5       , 1269.90002441, 1413.90002441, 1133.09997559,\n",
              "       1492.19995117, 1181.09997559, 1244.5       , 1313.90002441,\n",
              "       1323.5       , 1572.        , 1183.69995117, 1333.80004883,\n",
              "       1638.59997559, 1340.69995117, 1340.30004883, 1287.        ,\n",
              "       1669.40002441, 1244.        , 1271.40002441, 1656.40002441,\n",
              "       1781.30004883,  763.79998779, 1338.        , 1235.40002441,\n",
              "       1153.30004883, 1172.90002441, 1153.09997559, 1499.69995117,\n",
              "        808.20001221,  883.09997559, 1294.69995117,  926.20001221,\n",
              "       1564.5       , 1333.69995117, 1426.09997559, 1352.90002441,\n",
              "        895.59997559, 1194.09997559, 1263.69995117,  892.90002441,\n",
              "       1249.19995117, 1723.19995117, 1305.69995117, 1303.80004883,\n",
              "       1771.09997559, 1613.80004883,  923.        , 1206.19995117,\n",
              "        928.70001221, 1281.        , 1127.90002441,  941.79998779,\n",
              "       1376.69995117, 1608.90002441, 1226.19995117, 1320.80004883,\n",
              "       1331.5       , 1472.59997559, 1274.90002441, 1198.5       ,\n",
              "       1289.09997559, 1097.90002441,  802.70001221, 1249.30004883,\n",
              "       1556.80004883, 1463.09997559, 1727.90002441, 1254.        ,\n",
              "       1954.19995117, 1953.5       ,  964.5       , 1225.30004883,\n",
              "       1594.19995117, 1293.40002441, 1507.30004883, 1208.09997559,\n",
              "       1089.90002441, 1271.90002441, 1226.5       , 1286.90002441,\n",
              "       1272.        ,  716.79998779, 1402.80004883, 1290.59997559,\n",
              "        942.09997559, 1242.19995117, 1728.69995117, 1781.69995117,\n",
              "        890.90002441, 1634.19995117, 1276.19995117, 1774.80004883,\n",
              "        910.5       ,  866.40002441, 1294.30004883, 1513.80004883,\n",
              "       1326.40002441,  878.79998779, 1256.59997559, 1199.09997559,\n",
              "       1710.90002441, 1229.90002441, 1159.69995117, 1342.09997559,\n",
              "        958.29998779, 1564.30004883, 1161.59997559, 1211.        ,\n",
              "       1116.09997559, 1218.59997559, 1077.5       , 1195.30004883,\n",
              "       1287.69995117, 1264.69995117, 1194.30004883, 1245.5       ,\n",
              "       1279.09997559, 1283.        , 1265.40002441, 1215.30004883,\n",
              "       1162.80004883, 1849.59997559, 1306.30004883, 1293.59997559,\n",
              "       1223.30004883, 1897.30004883,  913.59997559, 1730.59997559,\n",
              "       1268.5       ,  927.09997559, 1479.80004883,  819.40002441,\n",
              "       1131.80004883, 1177.90002441,  956.59997559,  992.29998779,\n",
              "       1233.80004883, 1295.09997559, 1168.40002441, 1344.80004883,\n",
              "       1423.40002441, 1217.40002441, 1312.90002441, 1306.30004883,\n",
              "       1311.69995117, 1203.90002441, 1683.40002441, 1514.5       ,\n",
              "       1113.30004883,  965.70001221, 1227.80004883, 1195.5       ,\n",
              "       1267.        , 1385.69995117, 1131.59997559, 1283.09997559,\n",
              "       1551.69995117, 1710.5       , 1492.30004883, 1289.30004883,\n",
              "       1540.09997559, 1639.19995117, 1324.5       , 1317.40002441,\n",
              "       1611.90002441, 1276.80004883, 1290.19995117, 1290.80004883,\n",
              "       1281.        , 1295.59997559, 1574.59997559, 1652.40002441,\n",
              "       1282.        , 1186.90002441, 1852.30004883, 1537.80004883,\n",
              "        957.        ,  885.90002441,  953.20001221, 1320.09997559,\n",
              "       1138.59997559, 1086.69995117, 1772.5       , 1658.59997559,\n",
              "       1285.5       , 1285.80004883,  963.09997559, 1695.80004883,\n",
              "       1088.19995117,  883.59997559,  787.59997559, 1192.59997559,\n",
              "       1526.30004883, 1506.09997559, 1195.        ,  878.        ,\n",
              "       1228.5       , 1255.09997559, 1964.59997559,  745.59997559,\n",
              "       1566.        , 1274.80004883, 1321.69995117, 1195.        ,\n",
              "       1334.69995117, 1294.19995117, 1288.59997559,  903.90002441,\n",
              "       1291.69995117, 1616.59997559, 1107.80004883, 1386.69995117,\n",
              "       1257.59997559, 1054.19995117, 1770.        , 1872.59997559,\n",
              "       1265.5       , 1392.        , 1316.69995117, 1136.30004883,\n",
              "       1174.59997559, 1264.5       , 1200.59997559, 1679.5       ,\n",
              "        997.5       , 1669.30004883, 1379.09997559, 1612.90002441,\n",
              "       1794.09997559, 1356.5       , 1309.90002441, 1757.09997559,\n",
              "       1908.5       , 1200.19995117, 1310.80004883,  922.5       ,\n",
              "       1197.90002441, 1200.        , 1157.59997559, 1333.40002441,\n",
              "       1985.        , 1271.90002441,  880.70001221,  921.59997559,\n",
              "       1572.09997559, 1112.59997559, 1335.40002441, 1135.30004883,\n",
              "       1514.90002441, 1238.69995117, 1713.30004883, 1637.5       ,\n",
              "       1211.30004883, 1225.        , 1791.19995117, 1297.09997559,\n",
              "        995.79998779, 1316.19995117, 1268.        , 1291.        ,\n",
              "       1229.30004883, 1197.5       , 1090.19995117, 1253.80004883,\n",
              "        847.09997559,  925.40002441, 1221.        , 1268.30004883,\n",
              "       1453.40002441, 1283.40002441, 1858.30004883,  905.5       ,\n",
              "       1650.30004883, 1445.59997559, 1467.40002441,  846.59997559,\n",
              "       1282.5       , 1767.69995117, 1633.69995117, 1414.90002441,\n",
              "       1246.80004883, 1281.5       , 1326.09997559, 1342.5       ,\n",
              "       1420.59997559, 1669.59997559, 1223.80004883,  871.5       ,\n",
              "       1303.09997559, 1141.5       , 1132.90002441, 1571.09997559,\n",
              "       1718.90002441, 1192.80004883, 1657.90002441, 1186.80004883,\n",
              "       1222.30004883, 1434.5       , 1195.40002441, 1340.19995117,\n",
              "       1293.69995117, 1233.40002441, 1105.09997559, 1192.59997559,\n",
              "       1474.        , 1075.80004883, 1171.09997559, 1171.5       ,\n",
              "       1191.5       , 1371.19995117, 1608.80004883, 1153.5       ,\n",
              "       1142.30004883, 1790.30004883, 1327.19995117, 1103.5       ,\n",
              "       1174.        , 1118.        , 1279.40002441, 1269.30004883,\n",
              "       1660.        , 1524.5       , 1932.59997559, 1934.40002441,\n",
              "        901.        , 1250.80004883, 1244.80004883, 1272.        ,\n",
              "       1713.        ,  923.59997559, 1313.30004883,  906.5       ,\n",
              "       1944.69995117, 1672.40002441, 1558.30004883, 1245.19995117,\n",
              "       1453.59997559, 1560.59997559, 1714.69995117, 1202.40002441,\n",
              "        820.29998779, 1285.69995117, 1659.09997559, 1307.5       ,\n",
              "       1509.90002441, 1659.        , 1240.        , 1747.        ,\n",
              "       1176.19995117, 1263.90002441, 1415.69995117, 1670.80004883,\n",
              "       1248.19995117, 1213.80004883, 1187.19995117, 1324.19995117,\n",
              "       1134.80004883, 1159.40002441,  818.40002441, 1776.40002441,\n",
              "       1268.40002441, 1564.59997559, 1284.90002441, 1252.40002441,\n",
              "       1077.59997559,  750.5       , 1338.        , 1352.19995117,\n",
              "       1519.5       , 1716.5       , 1229.30004883, 1811.40002441,\n",
              "        957.29998779, 1273.30004883, 1763.        , 1055.40002441,\n",
              "       1415.30004883, 1719.59997559, 1223.69995117, 1076.69995117,\n",
              "        836.40002441, 1156.40002441,  841.70001221, 1247.80004883,\n",
              "       1842.90002441, 1690.40002441, 1324.        , 1339.        ,\n",
              "       1228.90002441, 1229.80004883, 1590.09997559, 1557.80004883,\n",
              "       1850.30004883, 1541.19995117, 1263.19995117, 1343.30004883,\n",
              "        944.70001221, 1700.30004883, 1497.30004883, 1250.30004883,\n",
              "       1313.5       , 1178.        , 1615.        , 1312.        ,\n",
              "       1501.        , 1532.        ,  878.59997559, 1703.        ,\n",
              "       1207.90002441, 1631.        ,  892.79998779, 1671.40002441,\n",
              "       1332.80004883, 1091.5       , 1382.80004883,  882.20001221,\n",
              "       1411.40002441, 1271.80004883, 1385.59997559, 1253.90002441,\n",
              "       1175.69995117])"
            ]
          },
          "metadata": {},
          "execution_count": 12
        }
      ]
    },
    {
      "cell_type": "code",
      "source": [
        "from sklearn.metrics import mean_squared_error, r2_score\n",
        "\n",
        "\n",
        "def calculate_metrics(y_test, y_pred):\n",
        "  '''\n",
        "  y_test: ground truth\n",
        "  y_pred: model predict\n",
        "  '''\n",
        "  mse=mean_squared_error(y_test, y_pred)\n",
        "  rmse=np.sqrt(mse)\n",
        "  r2_scors=r2_score(y_test, y_pred)\n",
        "  print(\"MSE:\", mse)\n",
        "  print(\"RMSE:\", rmse)\n",
        "  print(\"R2_SCORE\", r2_scors)\n",
        "\n",
        "  "
      ],
      "metadata": {
        "id": "X2zm-exT6mey"
      },
      "execution_count": 13,
      "outputs": []
    },
    {
      "cell_type": "code",
      "source": [
        "calculate_metrics(y_test, pred1)"
      ],
      "metadata": {
        "colab": {
          "base_uri": "https://localhost:8080/"
        },
        "id": "QvB0jCxS7zMp",
        "outputId": "414ec3b4-d9bd-4412-e8eb-4765f01ddfb3"
      },
      "execution_count": 14,
      "outputs": [
        {
          "output_type": "stream",
          "name": "stdout",
          "text": [
            "MSE: 2.0557920865428854e-23\n",
            "RMSE: 4.53408434696895e-12\n",
            "R2_SCORE 1.0\n"
          ]
        }
      ]
    },
    {
      "cell_type": "code",
      "source": [
        "from sklearn.linear_model import Lasso, Ridge\n",
        "la=Lasso().fit(x_train, y_train)\n",
        "ri=Ridge().fit(x_train, y_train)\n",
        "la_p=la.predict(x_test)\n",
        "ri_p=ri.predict(x_test)"
      ],
      "metadata": {
        "id": "wASmHHhW75Hd"
      },
      "execution_count": 15,
      "outputs": []
    },
    {
      "cell_type": "code",
      "source": [
        "calculate_metrics(y_test, la_p)"
      ],
      "metadata": {
        "colab": {
          "base_uri": "https://localhost:8080/"
        },
        "id": "eCApYMVm8R1V",
        "outputId": "a111b890-e27c-4806-b6a4-ba5e28a985cc"
      },
      "execution_count": 16,
      "outputs": [
        {
          "output_type": "stream",
          "name": "stdout",
          "text": [
            "MSE: 10.94214147347952\n",
            "RMSE: 3.307890789231035\n",
            "R2_SCORE 0.9998360348053783\n"
          ]
        }
      ]
    },
    {
      "cell_type": "code",
      "source": [
        "calculate_metrics(y_test, ri_p)"
      ],
      "metadata": {
        "colab": {
          "base_uri": "https://localhost:8080/"
        },
        "id": "qLXgTC7S8Z7h",
        "outputId": "d164b15e-05f0-4703-f57f-d97f9413e448"
      },
      "execution_count": 17,
      "outputs": [
        {
          "output_type": "stream",
          "name": "stdout",
          "text": [
            "MSE: 5.7173188703658376e-09\n",
            "RMSE: 7.56129543819433e-05\n",
            "R2_SCORE 0.9999999999999143\n"
          ]
        }
      ]
    },
    {
      "cell_type": "code",
      "source": [
        "from sklearn.svm import SVR\n",
        "from sklearn.model_selection import GridSearchCV\n",
        "svr=SVR()\n",
        "parm_grid={'C': [0.1, 1, 10, 100, 1000], 'gamma': [1,0.1,0.01, 0.001, 0.0001], 'kernel': ['rbf']}\n",
        "grid= GridSearchCV(SVR(), parm_grid, refit=True, verbose=3)\n",
        "grid.fit(x_train, y_train)\n"
      ],
      "metadata": {
        "id": "e1z4hXNY9MRb",
        "colab": {
          "base_uri": "https://localhost:8080/"
        },
        "outputId": "8662480e-cf7c-4389-cc22-73f685644c08"
      },
      "execution_count": 20,
      "outputs": [
        {
          "output_type": "stream",
          "name": "stdout",
          "text": [
            "Fitting 5 folds for each of 25 candidates, totalling 125 fits\n",
            "[CV 1/5] END .......C=0.1, gamma=1, kernel=rbf;, score=-0.019 total time=   0.3s\n",
            "[CV 2/5] END .......C=0.1, gamma=1, kernel=rbf;, score=-0.028 total time=   0.3s\n",
            "[CV 3/5] END .......C=0.1, gamma=1, kernel=rbf;, score=-0.003 total time=   0.3s\n",
            "[CV 4/5] END .......C=0.1, gamma=1, kernel=rbf;, score=-0.009 total time=   0.3s\n",
            "[CV 5/5] END .......C=0.1, gamma=1, kernel=rbf;, score=-0.033 total time=   0.3s\n",
            "[CV 1/5] END .....C=0.1, gamma=0.1, kernel=rbf;, score=-0.019 total time=   0.3s\n",
            "[CV 2/5] END .....C=0.1, gamma=0.1, kernel=rbf;, score=-0.028 total time=   0.3s\n",
            "[CV 3/5] END .....C=0.1, gamma=0.1, kernel=rbf;, score=-0.003 total time=   0.3s\n",
            "[CV 4/5] END .....C=0.1, gamma=0.1, kernel=rbf;, score=-0.009 total time=   0.3s\n",
            "[CV 5/5] END .....C=0.1, gamma=0.1, kernel=rbf;, score=-0.033 total time=   0.3s\n",
            "[CV 1/5] END ....C=0.1, gamma=0.01, kernel=rbf;, score=-0.019 total time=   0.3s\n",
            "[CV 2/5] END ....C=0.1, gamma=0.01, kernel=rbf;, score=-0.027 total time=   0.3s\n",
            "[CV 3/5] END ....C=0.1, gamma=0.01, kernel=rbf;, score=-0.003 total time=   0.3s\n",
            "[CV 4/5] END ....C=0.1, gamma=0.01, kernel=rbf;, score=-0.009 total time=   0.3s\n",
            "[CV 5/5] END ....C=0.1, gamma=0.01, kernel=rbf;, score=-0.033 total time=   0.3s\n",
            "[CV 1/5] END ...C=0.1, gamma=0.001, kernel=rbf;, score=-0.017 total time=   0.4s\n",
            "[CV 2/5] END ...C=0.1, gamma=0.001, kernel=rbf;, score=-0.025 total time=   0.4s\n",
            "[CV 3/5] END ...C=0.1, gamma=0.001, kernel=rbf;, score=-0.000 total time=   0.4s\n",
            "[CV 4/5] END ...C=0.1, gamma=0.001, kernel=rbf;, score=-0.006 total time=   0.4s\n",
            "[CV 5/5] END ...C=0.1, gamma=0.001, kernel=rbf;, score=-0.031 total time=   0.4s\n",
            "[CV 1/5] END ..C=0.1, gamma=0.0001, kernel=rbf;, score=-0.003 total time=   0.4s\n",
            "[CV 2/5] END ..C=0.1, gamma=0.0001, kernel=rbf;, score=-0.009 total time=   0.4s\n",
            "[CV 3/5] END ...C=0.1, gamma=0.0001, kernel=rbf;, score=0.015 total time=   0.4s\n",
            "[CV 4/5] END ...C=0.1, gamma=0.0001, kernel=rbf;, score=0.011 total time=   1.2s\n",
            "[CV 5/5] END ..C=0.1, gamma=0.0001, kernel=rbf;, score=-0.016 total time=   0.7s\n",
            "[CV 1/5] END .........C=1, gamma=1, kernel=rbf;, score=-0.019 total time=   0.3s\n",
            "[CV 2/5] END .........C=1, gamma=1, kernel=rbf;, score=-0.027 total time=   0.3s\n",
            "[CV 3/5] END .........C=1, gamma=1, kernel=rbf;, score=-0.003 total time=   0.3s\n",
            "[CV 4/5] END .........C=1, gamma=1, kernel=rbf;, score=-0.009 total time=   0.3s\n",
            "[CV 5/5] END .........C=1, gamma=1, kernel=rbf;, score=-0.033 total time=   0.3s\n",
            "[CV 1/5] END .......C=1, gamma=0.1, kernel=rbf;, score=-0.019 total time=   0.3s\n",
            "[CV 2/5] END .......C=1, gamma=0.1, kernel=rbf;, score=-0.027 total time=   0.3s\n",
            "[CV 3/5] END .......C=1, gamma=0.1, kernel=rbf;, score=-0.003 total time=   0.3s\n",
            "[CV 4/5] END .......C=1, gamma=0.1, kernel=rbf;, score=-0.009 total time=   0.3s\n",
            "[CV 5/5] END .......C=1, gamma=0.1, kernel=rbf;, score=-0.033 total time=   0.3s\n",
            "[CV 1/5] END ......C=1, gamma=0.01, kernel=rbf;, score=-0.018 total time=   0.3s\n",
            "[CV 2/5] END ......C=1, gamma=0.01, kernel=rbf;, score=-0.027 total time=   0.4s\n",
            "[CV 3/5] END ......C=1, gamma=0.01, kernel=rbf;, score=-0.001 total time=   0.3s\n",
            "[CV 4/5] END ......C=1, gamma=0.01, kernel=rbf;, score=-0.007 total time=   0.3s\n",
            "[CV 5/5] END ......C=1, gamma=0.01, kernel=rbf;, score=-0.032 total time=   0.4s\n",
            "[CV 1/5] END .....C=1, gamma=0.001, kernel=rbf;, score=-0.000 total time=   0.4s\n",
            "[CV 2/5] END .....C=1, gamma=0.001, kernel=rbf;, score=-0.007 total time=   0.4s\n",
            "[CV 3/5] END ......C=1, gamma=0.001, kernel=rbf;, score=0.019 total time=   0.4s\n",
            "[CV 4/5] END ......C=1, gamma=0.001, kernel=rbf;, score=0.015 total time=   0.4s\n",
            "[CV 5/5] END .....C=1, gamma=0.001, kernel=rbf;, score=-0.012 total time=   0.4s\n",
            "[CV 1/5] END .....C=1, gamma=0.0001, kernel=rbf;, score=0.119 total time=   0.4s\n",
            "[CV 2/5] END .....C=1, gamma=0.0001, kernel=rbf;, score=0.127 total time=   0.4s\n",
            "[CV 3/5] END .....C=1, gamma=0.0001, kernel=rbf;, score=0.138 total time=   0.4s\n",
            "[CV 4/5] END .....C=1, gamma=0.0001, kernel=rbf;, score=0.145 total time=   0.4s\n",
            "[CV 5/5] END .....C=1, gamma=0.0001, kernel=rbf;, score=0.112 total time=   0.4s\n",
            "[CV 1/5] END ........C=10, gamma=1, kernel=rbf;, score=-0.020 total time=   0.3s\n",
            "[CV 2/5] END ........C=10, gamma=1, kernel=rbf;, score=-0.028 total time=   0.3s\n",
            "[CV 3/5] END ........C=10, gamma=1, kernel=rbf;, score=-0.003 total time=   0.3s\n",
            "[CV 4/5] END ........C=10, gamma=1, kernel=rbf;, score=-0.009 total time=   0.3s\n",
            "[CV 5/5] END ........C=10, gamma=1, kernel=rbf;, score=-0.032 total time=   0.3s\n",
            "[CV 1/5] END ......C=10, gamma=0.1, kernel=rbf;, score=-0.020 total time=   0.3s\n",
            "[CV 2/5] END ......C=10, gamma=0.1, kernel=rbf;, score=-0.028 total time=   0.3s\n",
            "[CV 3/5] END ......C=10, gamma=0.1, kernel=rbf;, score=-0.002 total time=   0.3s\n",
            "[CV 4/5] END ......C=10, gamma=0.1, kernel=rbf;, score=-0.009 total time=   0.3s\n",
            "[CV 5/5] END ......C=10, gamma=0.1, kernel=rbf;, score=-0.033 total time=   0.3s\n",
            "[CV 1/5] END .....C=10, gamma=0.01, kernel=rbf;, score=-0.006 total time=   0.4s\n",
            "[CV 2/5] END .....C=10, gamma=0.01, kernel=rbf;, score=-0.015 total time=   0.3s\n",
            "[CV 3/5] END ......C=10, gamma=0.01, kernel=rbf;, score=0.013 total time=   0.3s\n",
            "[CV 4/5] END ......C=10, gamma=0.01, kernel=rbf;, score=0.005 total time=   0.3s\n",
            "[CV 5/5] END .....C=10, gamma=0.01, kernel=rbf;, score=-0.020 total time=   0.3s\n",
            "[CV 1/5] END .....C=10, gamma=0.001, kernel=rbf;, score=0.144 total time=   0.4s\n",
            "[CV 2/5] END .....C=10, gamma=0.001, kernel=rbf;, score=0.146 total time=   0.4s\n",
            "[CV 3/5] END .....C=10, gamma=0.001, kernel=rbf;, score=0.159 total time=   0.4s\n",
            "[CV 4/5] END .....C=10, gamma=0.001, kernel=rbf;, score=0.164 total time=   0.4s\n",
            "[CV 5/5] END .....C=10, gamma=0.001, kernel=rbf;, score=0.130 total time=   0.4s\n",
            "[CV 1/5] END ....C=10, gamma=0.0001, kernel=rbf;, score=0.553 total time=   0.4s\n",
            "[CV 2/5] END ....C=10, gamma=0.0001, kernel=rbf;, score=0.626 total time=   0.4s\n",
            "[CV 3/5] END ....C=10, gamma=0.0001, kernel=rbf;, score=0.597 total time=   0.5s\n",
            "[CV 4/5] END ....C=10, gamma=0.0001, kernel=rbf;, score=0.597 total time=   0.4s\n",
            "[CV 5/5] END ....C=10, gamma=0.0001, kernel=rbf;, score=0.566 total time=   0.4s\n",
            "[CV 1/5] END .......C=100, gamma=1, kernel=rbf;, score=-0.016 total time=   0.4s\n",
            "[CV 2/5] END .......C=100, gamma=1, kernel=rbf;, score=-0.025 total time=   0.4s\n",
            "[CV 3/5] END .......C=100, gamma=1, kernel=rbf;, score=-0.001 total time=   0.4s\n",
            "[CV 4/5] END .......C=100, gamma=1, kernel=rbf;, score=-0.006 total time=   0.4s\n",
            "[CV 5/5] END .......C=100, gamma=1, kernel=rbf;, score=-0.027 total time=   0.4s\n",
            "[CV 1/5] END .....C=100, gamma=0.1, kernel=rbf;, score=-0.010 total time=   0.4s\n",
            "[CV 2/5] END .....C=100, gamma=0.1, kernel=rbf;, score=-0.022 total time=   0.4s\n",
            "[CV 3/5] END ......C=100, gamma=0.1, kernel=rbf;, score=0.004 total time=   0.4s\n",
            "[CV 4/5] END .....C=100, gamma=0.1, kernel=rbf;, score=-0.004 total time=   0.4s\n",
            "[CV 5/5] END .....C=100, gamma=0.1, kernel=rbf;, score=-0.025 total time=   0.4s\n",
            "[CV 1/5] END .....C=100, gamma=0.01, kernel=rbf;, score=0.097 total time=   0.5s\n",
            "[CV 2/5] END .....C=100, gamma=0.01, kernel=rbf;, score=0.080 total time=   0.5s\n",
            "[CV 3/5] END .....C=100, gamma=0.01, kernel=rbf;, score=0.104 total time=   0.5s\n",
            "[CV 4/5] END .....C=100, gamma=0.01, kernel=rbf;, score=0.086 total time=   0.5s\n",
            "[CV 5/5] END .....C=100, gamma=0.01, kernel=rbf;, score=0.072 total time=   0.5s\n",
            "[CV 1/5] END ....C=100, gamma=0.001, kernel=rbf;, score=0.496 total time=   1.5s\n",
            "[CV 2/5] END ....C=100, gamma=0.001, kernel=rbf;, score=0.560 total time=   1.5s\n",
            "[CV 3/5] END ....C=100, gamma=0.001, kernel=rbf;, score=0.540 total time=   1.5s\n",
            "[CV 4/5] END ....C=100, gamma=0.001, kernel=rbf;, score=0.537 total time=   1.4s\n",
            "[CV 5/5] END ....C=100, gamma=0.001, kernel=rbf;, score=0.504 total time=   1.4s\n",
            "[CV 1/5] END ...C=100, gamma=0.0001, kernel=rbf;, score=0.805 total time=   2.6s\n",
            "[CV 2/5] END ...C=100, gamma=0.0001, kernel=rbf;, score=0.882 total time=   2.5s\n",
            "[CV 3/5] END ...C=100, gamma=0.0001, kernel=rbf;, score=0.871 total time=   2.4s\n",
            "[CV 4/5] END ...C=100, gamma=0.0001, kernel=rbf;, score=0.830 total time=   3.3s\n",
            "[CV 5/5] END ...C=100, gamma=0.0001, kernel=rbf;, score=0.845 total time=   3.2s\n",
            "[CV 1/5] END .......C=1000, gamma=1, kernel=rbf;, score=0.000 total time=   0.5s\n",
            "[CV 2/5] END ......C=1000, gamma=1, kernel=rbf;, score=-0.002 total time=   0.6s\n",
            "[CV 3/5] END ......C=1000, gamma=1, kernel=rbf;, score=-0.005 total time=   0.5s\n",
            "[CV 4/5] END ......C=1000, gamma=1, kernel=rbf;, score=-0.002 total time=   0.5s\n",
            "[CV 5/5] END ......C=1000, gamma=1, kernel=rbf;, score=-0.002 total time=   0.6s\n",
            "[CV 1/5] END .....C=1000, gamma=0.1, kernel=rbf;, score=0.017 total time=   0.5s\n",
            "[CV 2/5] END .....C=1000, gamma=0.1, kernel=rbf;, score=0.003 total time=   0.6s\n",
            "[CV 3/5] END .....C=1000, gamma=0.1, kernel=rbf;, score=0.011 total time=   0.6s\n",
            "[CV 4/5] END .....C=1000, gamma=0.1, kernel=rbf;, score=0.001 total time=   0.6s\n",
            "[CV 5/5] END .....C=1000, gamma=0.1, kernel=rbf;, score=0.002 total time=   0.5s\n",
            "[CV 1/5] END ....C=1000, gamma=0.01, kernel=rbf;, score=0.206 total time=   0.8s\n",
            "[CV 2/5] END ....C=1000, gamma=0.01, kernel=rbf;, score=0.198 total time=   0.7s\n",
            "[CV 3/5] END ....C=1000, gamma=0.01, kernel=rbf;, score=0.199 total time=   0.8s\n",
            "[CV 4/5] END ....C=1000, gamma=0.01, kernel=rbf;, score=0.170 total time=   0.7s\n",
            "[CV 5/5] END ....C=1000, gamma=0.01, kernel=rbf;, score=0.174 total time=   0.7s\n",
            "[CV 1/5] END ...C=1000, gamma=0.001, kernel=rbf;, score=0.618 total time=   7.0s\n",
            "[CV 2/5] END ...C=1000, gamma=0.001, kernel=rbf;, score=0.713 total time=   7.0s\n",
            "[CV 3/5] END ...C=1000, gamma=0.001, kernel=rbf;, score=0.688 total time=   6.7s\n",
            "[CV 4/5] END ...C=1000, gamma=0.001, kernel=rbf;, score=0.656 total time=   8.3s\n",
            "[CV 5/5] END ...C=1000, gamma=0.001, kernel=rbf;, score=0.686 total time=   7.7s\n",
            "[CV 1/5] END ..C=1000, gamma=0.0001, kernel=rbf;, score=0.850 total time=  28.1s\n",
            "[CV 2/5] END ..C=1000, gamma=0.0001, kernel=rbf;, score=0.921 total time=  23.8s\n",
            "[CV 3/5] END ..C=1000, gamma=0.0001, kernel=rbf;, score=0.909 total time=  31.3s\n",
            "[CV 4/5] END ..C=1000, gamma=0.0001, kernel=rbf;, score=0.879 total time=  27.8s\n",
            "[CV 5/5] END ..C=1000, gamma=0.0001, kernel=rbf;, score=0.884 total time=  24.9s\n"
          ]
        },
        {
          "output_type": "execute_result",
          "data": {
            "text/plain": [
              "GridSearchCV(estimator=SVR(),\n",
              "             param_grid={'C': [0.1, 1, 10, 100, 1000],\n",
              "                         'gamma': [1, 0.1, 0.01, 0.001, 0.0001],\n",
              "                         'kernel': ['rbf']},\n",
              "             verbose=3)"
            ]
          },
          "metadata": {},
          "execution_count": 20
        }
      ]
    },
    {
      "cell_type": "code",
      "source": [
        "svr=SVR(C=10, gamma=0.01, kernel='rbf')\n",
        "svr.fit(x_train, y_train)\n",
        "svr_pred=svr.predict(x_test)"
      ],
      "metadata": {
        "id": "oHl2xYStRGDR"
      },
      "execution_count": 21,
      "outputs": []
    },
    {
      "cell_type": "code",
      "source": [
        "import joblib\n",
        "\n",
        "\n",
        "joblib.dump(ri, 'model.pkl')\n",
        "ridge_from_joblib=model=joblib.load(\"model.pkl\")"
      ],
      "metadata": {
        "id": "rY6BlFYFSFQK"
      },
      "execution_count": 22,
      "outputs": []
    }
  ]
}